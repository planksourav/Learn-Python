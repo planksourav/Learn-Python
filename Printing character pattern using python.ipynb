{
 "cells": [
  {
   "cell_type": "markdown",
   "metadata": {},
   "source": [
    "### Printing character pattern "
   ]
  },
  {
   "cell_type": "code",
   "execution_count": 1,
   "metadata": {},
   "outputs": [
    {
     "name": "stdout",
     "output_type": "stream",
     "text": [
      "A \r\n",
      "B B \r\n",
      "C C C \r\n",
      "D D D D \r\n",
      "E E E E E \r\n",
      "F F F F F F \r\n",
      "G G G G G G G \r\n"
     ]
    }
   ],
   "source": [
    "# Function to describe printing pattern\n",
    "def charpat(n):\n",
    "    \n",
    "    # initializing value corresponding to 'A'\n",
    "    # ASCII value\n",
    "    num = 65\n",
    "    \n",
    "    # outer loop to handle number of rows\n",
    "    for i in range(0, n):\n",
    "        \n",
    "        # inner loop to handle of columns\n",
    "        # values changing accordingly to outer loop\n",
    "        for j in range(0, i +1):\n",
    "            \n",
    "            # explicitely converting to char\n",
    "            ch = chr(num)\n",
    "            \n",
    "            # printing char value\n",
    "            print(ch, end=\" \")\n",
    "        \n",
    "        # incrementing number\n",
    "        num = num + 1\n",
    "        \n",
    "        # ending line after each row\n",
    "        print(\"\\r\")\n",
    "#  print pattern using static value 7\n",
    "n = 7\n",
    "charpat(n)"
   ]
  },
  {
   "cell_type": "markdown",
   "metadata": {},
   "source": [
    "### Printing continuous character pattern "
   ]
  },
  {
   "cell_type": "code",
   "execution_count": 3,
   "metadata": {},
   "outputs": [
    {
     "name": "stdout",
     "output_type": "stream",
     "text": [
      "A \r\n",
      "B C \r\n",
      "D E F \r\n",
      "G H I J \r\n",
      "K L M N O \r\n",
      "P Q R S T U \r\n"
     ]
    }
   ],
   "source": [
    "# Function to describe printing pattern\n",
    "def charpat(n):\n",
    "    \n",
    "    # initializing value corresponding to 'A'\n",
    "    # ASCII value\n",
    "    num = 65\n",
    "    \n",
    "    # outer loop to handle number of rows\n",
    "    for i in range(0, n):\n",
    "        \n",
    "        # inner loop to handle number columns\n",
    "        # values changing accordingly to outer loop\n",
    "        for j in range(0, i+1):\n",
    "            \n",
    "            # explicitey converting to char\n",
    "            ch = chr(num)\n",
    "            \n",
    "            # printing char value\n",
    "            print(ch, end=\" \")\n",
    "            \n",
    "            # incrementing at each column\n",
    "            num = num + 1\n",
    "        # ending line after each row\n",
    "        print(\"\\r\")\n",
    "\n",
    "#  print pattern using static value 6\n",
    "n = 6\n",
    "charpat(n)"
   ]
  },
  {
   "cell_type": "code",
   "execution_count": null,
   "metadata": {},
   "outputs": [],
   "source": []
  }
 ],
 "metadata": {
  "kernelspec": {
   "display_name": "Python 3",
   "language": "python",
   "name": "python3"
  },
  "language_info": {
   "codemirror_mode": {
    "name": "ipython",
    "version": 3
   },
   "file_extension": ".py",
   "mimetype": "text/x-python",
   "name": "python",
   "nbconvert_exporter": "python",
   "pygments_lexer": "ipython3",
   "version": "3.7.1"
  }
 },
 "nbformat": 4,
 "nbformat_minor": 2
}
