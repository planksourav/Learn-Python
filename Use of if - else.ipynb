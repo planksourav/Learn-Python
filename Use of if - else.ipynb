{
 "cells": [
  {
   "cell_type": "markdown",
   "id": "39cf5505",
   "metadata": {},
   "source": [
    "### Use of if - else"
   ]
  },
  {
   "cell_type": "markdown",
   "id": "5e76d3af",
   "metadata": {},
   "source": [
    "We will print Birthday wish for Miju using  if - else"
   ]
  },
  {
   "cell_type": "raw",
   "id": "b3bcd12f",
   "metadata": {},
   "source": [
    "First we need to import time"
   ]
  },
  {
   "cell_type": "code",
   "execution_count": 1,
   "id": "9d857e48",
   "metadata": {},
   "outputs": [],
   "source": [
    "import time\n",
    "from random import randint"
   ]
  },
  {
   "cell_type": "markdown",
   "id": "ec636b7f",
   "metadata": {},
   "source": [
    "Now with the help of if and elif conditions We can check for several expressions with this. If the if a condition is False, the next elif block’s condition is checked, and so on. The body of else is executed if all the conditions are false."
   ]
  },
  {
   "cell_type": "code",
   "execution_count": 2,
   "id": "b1f09595",
   "metadata": {},
   "outputs": [
    {
     "name": "stdout",
     "output_type": "stream",
     "text": [
      "Happy Birthday Miju!\n",
      "Happy Birthday Miju!\n",
      "Happy Birthday Miju!\n",
      "Happy Birthday Miju!\n",
      "Happy Birthday My Soul!\n",
      "Happy Birthday Ritu!\n",
      "Happy Birthday My Universe!\n",
      "Happy Birthday My Light!\n",
      "Happy Birthday My Heart!\n",
      "Happy Birthday My Love!\n",
      "Happy Birthday Miju!\n",
      "Happy Birthday Ritu!\n",
      "Happy Birthday Miju!\n",
      "Happy Birthday My Universe!\n",
      "Happy Birthday My Soul!\n",
      "Happy Birthday My Light!\n",
      "Happy Birthday Miju!\n",
      "Happy Birthday My Heart!\n",
      "Happy Birthday Miju!\n",
      "Happy Birthday My Love!\n",
      "Happy Birthday My Universe!\n",
      "Happy Birthday Miju!\n",
      "Happy Birthday Miju!\n",
      "Happy Birthday My Light!\n",
      "Happy Birthday My Soul!\n",
      "Happy Birthday Miju!\n",
      "Happy Birthday My Heart!\n",
      "Happy Birthday My Universe!\n",
      "Happy Birthday Miju!\n",
      "Happy Birthday My Love!\n",
      "Happy Birthday Miju!\n",
      "Happy Birthday My Light!\n",
      "Happy Birthday Miju!\n",
      "Happy Birthday Miju!\n",
      "Happy Birthday My Soul!\n",
      "Happy Birthday My Heart!\n",
      "Happy Birthday Miju!\n",
      "Happy Birthday Miju!\n",
      "Happy Birthday Miju!\n",
      "Happy Birthday My Love!\n",
      "Happy Birthday Miju!\n",
      "Happy Birthday My Universe!\n",
      "Happy Birthday Miju!\n",
      "Happy Birthday Miju!\n",
      "Happy Birthday My Heart!\n",
      "Happy Birthday Miju!\n",
      "Happy Birthday Miju!\n",
      "Happy Birthday My Light!\n",
      "Happy Birthday My Universe!\n",
      "Happy Birthday My Love!\n",
      "Happy Birthday Miju!\n",
      "Happy Birthday Miju!\n",
      "Happy Birthday Miju!\n",
      "Happy Birthday My Heart!\n",
      "Happy Birthday My Soul!\n",
      "Happy Birthday My Light!\n",
      "Happy Birthday Miju!\n",
      "Happy Birthday Miju!\n",
      "Happy Birthday Miju!\n",
      "Happy Birthday My Love!\n",
      "Happy Birthday Miju!\n",
      "Happy Birthday Miju!\n",
      "Happy Birthday My Heart!\n",
      "Happy Birthday My Light!\n",
      "Happy Birthday My Soul!\n",
      "Happy Birthday Ritu!\n",
      "Happy Birthday Miju!\n",
      "Happy Birthday Miju!\n",
      "Happy Birthday Miju!\n",
      "Happy Birthday My Love!\n",
      "Happy Birthday Miju!\n",
      "Happy Birthday My Heart!\n",
      "Happy Birthday Miju!\n",
      "Happy Birthday Miju!\n",
      "Happy Birthday My Soul!\n",
      "Happy Birthday Miju!\n",
      "Happy Birthday My Universe!\n",
      "Happy Birthday Ritu!\n",
      "Happy Birthday Miju!\n",
      "Happy Birthday My Love!\n",
      "Happy Birthday My Heart!\n",
      "Happy Birthday Miju!\n",
      "Happy Birthday Miju!\n",
      "Happy Birthday My Universe!\n",
      "Happy Birthday My Soul!\n",
      "Happy Birthday Miju!\n",
      "Happy Birthday Miju!\n",
      "Happy Birthday My Light!\n",
      "Happy Birthday Miju!\n",
      "Happy Birthday My Love!\n",
      "Happy Birthday My Universe!\n",
      "Happy Birthday Miju!\n",
      "Happy Birthday Miju!\n",
      "Happy Birthday Miju!\n",
      "Happy Birthday My Soul!\n",
      "Happy Birthday My Light!\n",
      "Happy Birthday Miju!\n",
      "Happy Birthday My Universe!\n",
      "Happy Birthday My Heart!\n"
     ]
    }
   ],
   "source": [
    "for m in range(1,100):\n",
    "    num = randint(1, 100)\n",
    "    while(num > 0):\n",
    "        \n",
    "        num -= 1\n",
    "    if(m%10==0):\n",
    "        print('Happy Birthday My Love!')\n",
    "    elif(m%9 == 0):\n",
    "        print( \"Happy Birthday My Heart!\")\n",
    "    elif(m%5==0):\n",
    "        print(\"Happy Birthday My Soul!\")\n",
    "    elif(m%8==0):\n",
    "        print(\"Happy Birthday My Light!\")\n",
    "    elif(m%7==0):\n",
    "        print(\"Happy Birthday My Universe!\")\n",
    "    elif(m%6==0):\n",
    "        print(\"Happy Birthday Ritu!\")\n",
    "    else:\n",
    "        print(\"Happy Birthday Miju!\")\n",
    "    \n",
    "    time.sleep(0.1)"
   ]
  },
  {
   "cell_type": "code",
   "execution_count": null,
   "id": "c57622f6",
   "metadata": {},
   "outputs": [],
   "source": []
  }
 ],
 "metadata": {
  "kernelspec": {
   "display_name": "Python 3 (ipykernel)",
   "language": "python",
   "name": "python3"
  },
  "language_info": {
   "codemirror_mode": {
    "name": "ipython",
    "version": 3
   },
   "file_extension": ".py",
   "mimetype": "text/x-python",
   "name": "python",
   "nbconvert_exporter": "python",
   "pygments_lexer": "ipython3",
   "version": "3.10.9"
  }
 },
 "nbformat": 4,
 "nbformat_minor": 5
}
