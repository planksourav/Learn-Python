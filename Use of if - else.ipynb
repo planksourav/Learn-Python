{
 "cells": [
  {
   "cell_type": "markdown",
   "id": "a1e46059",
   "metadata": {},
   "source": [
    "### Use of if - else"
   ]
  },
  {
   "cell_type": "markdown",
   "id": "895d1f90",
   "metadata": {},
   "source": [
    "We will print Birthday wish for Miju using  if - else"
   ]
  },
  {
   "cell_type": "raw",
   "id": "539f821b",
   "metadata": {},
   "source": [
    "First we need to import time"
   ]
  },
  {
   "cell_type": "code",
   "execution_count": 1,
   "id": "69a08ccc",
   "metadata": {},
   "outputs": [],
   "source": [
    "import time\n",
    "from random import randint"
   ]
  },
  {
   "cell_type": "markdown",
   "id": "51c79e52",
   "metadata": {},
   "source": [
    "Now with the help of if and elif conditions We can check for several expressions with this. If the if a condition is False, the next elif block’s condition is checked, and so on. The body of else is executed if all the conditions are false."
   ]
  },
  {
   "cell_type": "code",
   "execution_count": null,
   "id": "3202ea78",
   "metadata": {},
   "outputs": [],
   "source": [
    "for m in range(1,100):\n",
    "    num = randint(1, 100)\n",
    "    while(num > 0):\n",
    "        \n",
    "        num -= 1\n",
    "    if(m%10==0):\n",
    "        print('Happy Birthday My Love!')\n",
    "    elif(m%9 == 0):\n",
    "        print( \"Happy Birthday My Heart!\")\n",
    "    elif(m%5==0):\n",
    "        print(\"Happy Birthday My Soul!\")\n",
    "    elif(m%8==0):\n",
    "        print(\"Happy Birthday My Light!\")\n",
    "    elif(m%7==0):\n",
    "        print(\"Happy Birthday My Universe!\")\n",
    "    elif(m%6==0):\n",
    "        print(\"Happy Birthday Ritu!\")\n",
    "    else:\n",
    "        print(\"Happy Birthday Miju!\")\n",
    "    \n",
    "    time.sleep(0.1)"
   ]
  }
 ],
 "metadata": {
  "kernelspec": {
   "display_name": "Python 3 (ipykernel)",
   "language": "python",
   "name": "python3"
  },
  "language_info": {
   "codemirror_mode": {
    "name": "ipython",
    "version": 3
   },
   "file_extension": ".py",
   "mimetype": "text/x-python",
   "name": "python",
   "nbconvert_exporter": "python",
   "pygments_lexer": "ipython3",
   "version": "3.10.9"
  }
 },
 "nbformat": 4,
 "nbformat_minor": 5
}
