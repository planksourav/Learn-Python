{
 "cells": [
  {
   "cell_type": "markdown",
   "metadata": {},
   "source": [
    "## Printnig number patterns with python \n"
   ]
  },
  {
   "cell_type": "code",
   "execution_count": 4,
   "metadata": {},
   "outputs": [
    {
     "name": "stdout",
     "output_type": "stream",
     "text": [
      "1 \r\n",
      "1 2 \r\n",
      "1 2 3 \r\n",
      "1 2 3 4 \r\n",
      "1 2 3 4 5 \r\n",
      "1 2 3 4 5 6 \r\n",
      "1 2 3 4 5 6 7 \r\n"
     ]
    }
   ],
   "source": [
    "# Function to describe printing pattern \n",
    "def numpat(n):\n",
    "    \n",
    "    # initialising starting number\n",
    "    num = 1\n",
    "    \n",
    "    # outer loop to handle number of rows\n",
    "    for i in range(0, n):\n",
    "        \n",
    "        # re assigning num\n",
    "        num =1\n",
    "        \n",
    "        # inner loop to handle of columns\n",
    "        # values changes accordingly to outer loop \n",
    "        \n",
    "        for j in range(0, i+1):\n",
    "        \n",
    "            # printing number\n",
    "            print(num, end=\" \")\n",
    "        \n",
    "            # increment number at each column\n",
    "            num = num + 1\n",
    "        \n",
    "        # ending line after each row\n",
    "        print(\"\\r\")\n",
    "    \n",
    "# print number pattern using static value 7\n",
    "n = 7\n",
    "numpat(n)"
   ]
  },
  {
   "cell_type": "markdown",
   "metadata": {},
   "source": [
    "### Number pattern without re assigning"
   ]
  },
  {
   "cell_type": "code",
   "execution_count": 8,
   "metadata": {},
   "outputs": [
    {
     "name": "stdout",
     "output_type": "stream",
     "text": [
      "1 \r\n",
      "2 3 \r\n",
      "4 5 6 \r\n",
      "7 8 9 10 \r\n"
     ]
    }
   ],
   "source": [
    "# Function to describe printing pattern\n",
    "def numpat(n):\n",
    "    \n",
    "    # initializing starting number\n",
    "    num = 1\n",
    "    \n",
    "    # outer loop to handle number of rowa\n",
    "    for i in range(0, n):\n",
    "        \n",
    "        # not re assigning num\n",
    "        \n",
    "        # inner loop to handle number of columns \n",
    "        # values changing accordingly to outer loop \n",
    "        for j in range(0, i+1):\n",
    "            \n",
    "            # printing number\n",
    "            print(num, end=\" \")\n",
    "            \n",
    "            # incrementing number at each column\n",
    "            num = num + 1\n",
    "            \n",
    "        # ending line after each row\n",
    "        print(\"\\r\")\n",
    "\n",
    "# print pattern using static value 4\n",
    "n =4\n",
    "numpat(n)"
   ]
  },
  {
   "cell_type": "code",
   "execution_count": null,
   "metadata": {},
   "outputs": [],
   "source": []
  }
 ],
 "metadata": {
  "kernelspec": {
   "display_name": "Python 3",
   "language": "python",
   "name": "python3"
  },
  "language_info": {
   "codemirror_mode": {
    "name": "ipython",
    "version": 3
   },
   "file_extension": ".py",
   "mimetype": "text/x-python",
   "name": "python",
   "nbconvert_exporter": "python",
   "pygments_lexer": "ipython3",
   "version": "3.7.1"
  }
 },
 "nbformat": 4,
 "nbformat_minor": 2
}
