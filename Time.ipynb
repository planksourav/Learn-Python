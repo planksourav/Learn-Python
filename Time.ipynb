{
 "cells": [
  {
   "cell_type": "code",
   "execution_count": null,
   "metadata": {},
   "outputs": [],
   "source": [
    "try :\n",
    "    import Tkinter\n",
    "except:\n",
    "    import tkinter as Tkinter\n",
    "import time as tm"
   ]
  },
  {
   "cell_type": "code",
   "execution_count": null,
   "metadata": {},
   "outputs": [],
   "source": [
    "clock = Tkinter.Tk(className=\"Time\")\n",
    "time = Tkinter.Label(clock, relief=\"raised\",font=(\"times 50 bold\"), bg=\"red\", fg=\"black\", text=\"Jan Sun 01 00:00:00 2017\")\n",
    "time.pack(ipadx=30,ipady=30)\n",
    "\n",
    "def timeupdate():\n",
    "    time['text']=tm.ctime()\n",
    "    return\n",
    "\n",
    "while True:\n",
    "    timeupdate()\n",
    "    clock.update()\n",
    "    clock.update_idletasks()"
   ]
  },
  {
   "cell_type": "code",
   "execution_count": null,
   "metadata": {},
   "outputs": [],
   "source": []
  }
 ],
 "metadata": {
  "kernelspec": {
   "display_name": "Python 3",
   "language": "python",
   "name": "python3"
  },
  "language_info": {
   "codemirror_mode": {
    "name": "ipython",
    "version": 3
   },
   "file_extension": ".py",
   "mimetype": "text/x-python",
   "name": "python",
   "nbconvert_exporter": "python",
   "pygments_lexer": "ipython3",
   "version": "3.7.1"
  }
 },
 "nbformat": 4,
 "nbformat_minor": 2
}
